{
  "nbformat": 4,
  "nbformat_minor": 0,
  "metadata": {
    "colab": {
      "name": "adaptive_filters.ipynb",
      "provenance": [],
      "include_colab_link": true
    },
    "kernelspec": {
      "display_name": "Python 3",
      "name": "python3"
    }
  },
  "cells": [
    {
      "cell_type": "markdown",
      "metadata": {
        "id": "view-in-github",
        "colab_type": "text"
      },
      "source": [
        "<a href=\"https://colab.research.google.com/github/sanju-k-maurya/DIP/blob/main/adaptive_filters.ipynb\" target=\"_parent\"><img src=\"https://colab.research.google.com/assets/colab-badge.svg\" alt=\"Open In Colab\"/></a>"
      ]
    },
    {
      "cell_type": "code",
      "metadata": {
        "id": "fODBFRQs0-vl"
      },
      "source": [
        "import numpy as np\r\n",
        "import cv2 as cv\r\n",
        "from matplotlib import pyplot as plt"
      ],
      "execution_count": null,
      "outputs": []
    },
    {
      "cell_type": "code",
      "metadata": {
        "colab": {
          "base_uri": "https://localhost:8080/",
          "height": 486
        },
        "id": "ElQBiuQe14Zu",
        "outputId": "0129f701-2e96-4c94-e1e4-cbb00a6ffdb2"
      },
      "source": [
        "img = cv.imread('Fig0424(a)(rectangle).tif', 0)\r\n",
        "plt.imshow(img)\r\n",
        "plt.xticks([]), plt.yticks([])\r\n",
        "plt.show()\r\n",
        "\r\n",
        "img_copy = np.copy(img)\r\n",
        "\r\n",
        "# Add gaussian noise with mean 0 and variance 0.59\r\n",
        "noise = np.random.normal(0, .59, img_copy.shape)\r\n",
        "noisy_img = img_copy + noise\r\n",
        "\r\n",
        "plt.imshow(noisy_img)\r\n",
        "plt.xticks([]), plt.yticks([])\r\n",
        "plt.show()"
      ],
      "execution_count": null,
      "outputs": [
        {
          "output_type": "display_data",
          "data": {
            "image/png": "[encoded data removed]",
            "text/plain": [
              "<Figure size 432x288 with 1 Axes>"
            ]
          },
          "metadata": {
            "tags": []
          }
        },
        {
          "output_type": "display_data",
          "data": {
            "image/png": "[encoded data removed]",
            "text/plain": [
              "<Figure size 432x288 with 1 Axes>"
            ]
          },
          "metadata": {
            "tags": []
          }
        }
      ]
    },
    {
      "cell_type": "code",
      "metadata": {
        "colab": {
          "background_save": true
        },
        "id": "GEigda4R3DcV",
        "outputId": "3207eac0-d73b-4df3-98b1-c493133cdb31"
      },
      "source": [
        "#Function to convert rgb to grayscale\r\n",
        "def rgb2gray(image_rgb):\r\n",
        "    if(len(image_rgb.shape) == 3):\r\n",
        "        return np.uint8(np.dot(image_rgb[...,:3], [0.2989, 0.5870, 0.1140]))\r\n",
        "\r\n",
        "    return image_rgb\r\n",
        "\r\n",
        "# Adaptive mean filter:\r\n",
        "def ad_mean_f(image, window_size):\r\n",
        "    \"\"\"runs the Adaptive Mean Filter proess on an image\"\"\"\r\n",
        "    xlength, ylength = image.shape #get the shape of the image.\r\n",
        "    \r\n",
        "    S_xy = window_size\r\n",
        "    \r\n",
        "    output_image = image.copy()\r\n",
        "    \r\n",
        "    for row in range(S_xy, xlength-S_xy-1):\r\n",
        "        for col in range(S_xy, ylength-S_xy-1):\r\n",
        "             filter_window = image[row - S_xy : row + S_xy + 1, col - S_xy : col + S_xy + 1] # filter window\r\n",
        "             target = filter_window.reshape(-1) # make 1-dimensional\r\n",
        "             var_l = np.var(target)   # local variance\r\n",
        "             mean_l = np.mean(target) # local mean\r\n",
        "             var_n = np.var(noise)      # variance of noise \r\n",
        "             curr = image[row,col]      # current intensity\r\n",
        "             if (var_l != 0):         # exception for local variance = 0\r\n",
        "                 new_intensity = curr-var_n/var_l*(curr-mean_l)\r\n",
        "             else:\r\n",
        "                 new_intensity = curr\r\n",
        "             output_image[row, col] = new_intensity\r\n",
        "    return output_image\r\n",
        "\r\n",
        "# image = np.array(noisy_img)\r\n",
        "# grayscale_image = rgb2gray(image)\r\n",
        "\r\n",
        "output = ad_mean_f(img, 3)\r\n",
        "plt.imshow(output)\r\n",
        "plt.xticks([]), plt.yticks([])\r\n",
        "plt.show()"
      ],
      "execution_count": null,
      "outputs": [
        {
          "output_type": "display_data",
          "data": {
            "image/png": "[encoded data removed]",
            "text/plain": [
              "<Figure size 432x288 with 1 Axes>"
            ]
          },
          "metadata": {
            "tags": []
          }
        }
      ]
    },
    {
      "cell_type": "code",
      "metadata": {
        "id": "WtRYpmnE3Oe_"
      },
      "source": [
        "# Adaptive median Filter\r\n",
        "\r\n",
        "def find_median(array):\r\n",
        "    \"\"\"Return the median of 1-d array\"\"\"\r\n",
        "    sorted_array = np.sort(array) \r\n",
        "    median = sorted_array[len(array)//2]\r\n",
        "    return median\r\n",
        "\r\n",
        "def stage_A(z_min, z_med, z_max, z_xy, S_xy, S_max):\r\n",
        "    if(z_min < z_med < z_max):\r\n",
        "        return stage_B(z_min, z_med, z_max, z_xy, S_xy, S_max)\r\n",
        "    else:\r\n",
        "        S_xy += 2 #increase the size of S_xy to the next odd value.\r\n",
        "        if(S_xy <= S_max): #repeat process\r\n",
        "            return stage_A(z_min, z_med, z_max, z_xy, S_xy, S_max)\r\n",
        "        else:\r\n",
        "            return z_med\r\n",
        "\r\n",
        "def stage_B(z_min, z_med, z_max, z_xy, S_xy, S_max):\r\n",
        "    if(z_min < z_xy < z_max):\r\n",
        "        return z_xy\r\n",
        "    else:\r\n",
        "        return z_med\r\n",
        "\r\n",
        "def amf(image, initial_window, max_window):\r\n",
        "    \"\"\"runs the Adaptive Median Filter proess on an image\"\"\"\r\n",
        "    xlength, ylength = image.shape # get the shape of the image.\r\n",
        "    \r\n",
        "    z_min, z_med, z_max, z_xy = 0, 0, 0, 0\r\n",
        "    S_max = max_window\r\n",
        "    S_xy = initial_window # dynamically to grow\r\n",
        "    \r\n",
        "    output_image = image.copy()\r\n",
        "    \r\n",
        "    for row in range(S_xy, xlength-S_xy-1):\r\n",
        "        for col in range(S_xy, ylength-S_xy-1):\r\n",
        "            filter_window = image[row - S_xy : row + S_xy + 1, col - S_xy : col + S_xy + 1] # filter window\r\n",
        "            target = filter_window.reshape(-1) # make 1-dimensional\r\n",
        "            z_min = np.min(target) # min of intensity values\r\n",
        "            z_max = np.max(target) # max of intensity values\r\n",
        "            z_med = find_median(target) # median of intensity values\r\n",
        "            z_xy = image[row, col] # current intensity\r\n",
        "            \r\n",
        "           \r\n",
        "            new_intensity = stage_A(z_min, z_med, z_max, z_xy, S_xy, S_max)\r\n",
        "            output_image[row, col] = new_intensity\r\n",
        "    return output_image\r\n",
        "\r\n",
        "output = amf(grayscale_image, 3, 11)\r\n",
        "plt.imshow(output)\r\n",
        "plt.xticks([]), plt.yticks([])\r\n",
        "plt.show()"
      ],
      "execution_count": null,
      "outputs": []
    }
  ]
}